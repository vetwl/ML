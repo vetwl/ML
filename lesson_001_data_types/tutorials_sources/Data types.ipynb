{
 "cells": [
  {
   "cell_type": "markdown",
   "metadata": {},
   "source": [
    "# 1 - Strings\n",
    "\n",
    "Строковый тип данных - это один из саммых распространненых типов в программирование, более 90% в памяти программах занимают именно строки.\n",
    "Строка предстовляется набором символов заключенных в кавычки."
   ]
  },
  {
   "cell_type": "code",
   "execution_count": 1,
   "metadata": {},
   "outputs": [
    {
     "name": "stdout",
     "output_type": "stream",
     "text": [
      "Hello, world\n",
      "-----\n",
      "Hello, world2\n",
      "-----\n",
      "\n",
      "Big text data \n",
      "with new lines\n",
      "line1\n",
      "line2\n",
      "\n"
     ]
    }
   ],
   "source": [
    "message = 'Hello, world'\n",
    "message2 = \"Hello, world2\"\n",
    "message3 = \"\"\"\n",
    "Big text data \n",
    "with new lines\n",
    "line1\n",
    "line2\n",
    "\"\"\"\n",
    "\n",
    "print(message)\n",
    "print('-----')\n",
    "print(message2)\n",
    "print('-----')\n",
    "print(message3)"
   ]
  },
  {
   "cell_type": "markdown",
   "metadata": {},
   "source": [
    "Строка может содержать специальные символы:\n",
    "* \\n - перевод строки\n",
    "* \\t - табуляция\n",
    "* \\\\' - ковычка\n",
    "* \\\\\" - двойная кавычка\n",
    "\n",
    "Полный список: https://linuxconfig.org/list-of-python-escape-sequence-characters-with-examples"
   ]
  },
  {
   "cell_type": "code",
   "execution_count": 2,
   "metadata": {},
   "outputs": [
    {
     "name": "stdout",
     "output_type": "stream",
     "text": [
      "AAAA\tBBBB\tCCCC\n",
      "aaaa\tnbbbb\tcccc\n",
      "\t\"Test\"\n"
     ]
    }
   ],
   "source": [
    "test_message=\"AAAA\\tBBBB\\tCCCC\\naaaa\\tnbbbb\\tcccc\\n\\t\\\"Test\\\"\"\n",
    "print(test_message)"
   ]
  },
  {
   "cell_type": "markdown",
   "metadata": {},
   "source": [
    "Индексация строк позволяет получить конкретный символ или нужную подстроку"
   ]
  },
  {
   "cell_type": "code",
   "execution_count": 5,
   "metadata": {},
   "outputs": [
    {
     "name": "stdout",
     "output_type": "stream",
     "text": [
      "Original message:\t Hello, world\n",
      "Message[0]:\t\t H\n",
      "Message[4]:\t\t o\n",
      "Message[-1]:\t\t d\n",
      "Message[-2]:\t\t l\n",
      "Message[1:4]:\t\t ell\n",
      "Message[:5]:\t\t Hello\n",
      "Message[5:]:\t\t , world\n",
      "Message[-3:]:\t\t rld\n"
     ]
    }
   ],
   "source": [
    "print('Original message:\\t', message)\n",
    "print('Message[0]:\\t\\t', message[0])\n",
    "print('Message[4]:\\t\\t', message[4])\n",
    "print('Message[-1]:\\t\\t', message[-1])\n",
    "print('Message[-2]:\\t\\t', message[-2])\n",
    "print('Message[1:4]:\\t\\t', message[1:4])\n",
    "print('Message[:5]:\\t\\t', message[:5])\n",
    "print('Message[5:]:\\t\\t', message[5:])\n",
    "print('Message[-3:]:\\t\\t', message[-3:])"
   ]
  },
  {
   "cell_type": "markdown",
   "metadata": {},
   "source": [
    "Основные функции над строками\n",
    "* len - длина строки\n",
    "* lower - строку в нижний регистр\n",
    "* upper - строку в верхний регистр\n",
    "* count - количество подстрок\n",
    "* find - поиск подстроки\n",
    "* replace - заменить одну подстроку другой"
   ]
  },
  {
   "cell_type": "code",
   "execution_count": 6,
   "metadata": {},
   "outputs": [
    {
     "name": "stdout",
     "output_type": "stream",
     "text": [
      "Length:  135  characters\n",
      "Lower:  q.f. is a fundamental theory in physics which describes nature at the smallest scales of energy levels of atoms and subatomic particles\n",
      "Upper:  Q.F. IS A FUNDAMENTAL THEORY IN PHYSICS WHICH DESCRIBES NATURE AT THE SMALLEST SCALES OF ENERGY LEVELS OF ATOMS AND SUBATOMIC PARTICLES\n",
      "Count:  2\n",
      "Find(he):  23 heory in physics which describes nature at the smallest scales of energy levels of atoms and subatomic particles\n",
      "Find(he):  67 he smallest scales of energy levels of atoms and subatomic particles\n",
      "Find(python):  -1\n",
      "\n",
      "------------\n",
      "\n",
      "Replace:  Q.F. is a fundamental python in physics which describes nature at the smallest scales of energy levels of atoms and subatomic particles\n",
      "After replace:  Q.F. is a fundamental theory in physics which describes nature at the smallest scales of energy levels of atoms and subatomic particles\n",
      "After replace2:  Q.F. is a fundamental python in physics which describes nature at the smallest scales of energy levels of atoms and subatomic particles\n"
     ]
    }
   ],
   "source": [
    "quantum_physic=\"Q.F. is a fundamental theory in physics which describes nature at the smallest scales of energy levels of atoms and subatomic particles\"\n",
    "\n",
    "print('Length: ', len(quantum_physic), ' characters')\n",
    "print('Lower: ', quantum_physic.lower())\n",
    "print('Upper: ', quantum_physic.upper())\n",
    "print('Count: ', quantum_physic.count('of'))\n",
    "print('Find(he): ' , quantum_physic.find('he'), quantum_physic[quantum_physic.find('he'):])\n",
    "print('Find(he): ' , quantum_physic.find('he',24), quantum_physic[quantum_physic.find('he',24):])\n",
    "print('Find(python): ' , quantum_physic.find('python'))\n",
    "\n",
    "print('\\n------------\\n')\n",
    "\n",
    "print('Replace: ', quantum_physic.replace('theory', 'python'))\n",
    "print('After replace: ', quantum_physic)\n",
    "\n",
    "quantum_physic = quantum_physic.replace('theory', 'python')\n",
    "print('After replace2: ', quantum_physic)"
   ]
  },
  {
   "cell_type": "markdown",
   "metadata": {},
   "source": [
    "**Операции со строками**\n",
    "* \\+ - конкатенция\n",
    "* format - форматирование данных в строке"
   ]
  },
  {
   "cell_type": "code",
   "execution_count": 8,
   "metadata": {},
   "outputs": [
    {
     "name": "stdout",
     "output_type": "stream",
     "text": [
      "Hello, world\n",
      "Hello, WORLD! Some text\n"
     ]
    }
   ],
   "source": [
    "a = 'Hello'\n",
    "b = ','\n",
    "c = 'world'\n",
    "\n",
    "print(a+b+' '+c)\n",
    "\n",
    "print(f\"{a}{b} {c.upper()}! Some text\")"
   ]
  },
  {
   "cell_type": "markdown",
   "metadata": {},
   "source": [
    "**Help**"
   ]
  },
  {
   "cell_type": "code",
   "execution_count": 12,
   "metadata": {},
   "outputs": [],
   "source": [
    "#print(help(str))\n",
    "#print(help(str.replace))\n",
    "#?str.replace"
   ]
  },
  {
   "cell_type": "markdown",
   "metadata": {},
   "source": [
    "# 2 - Numbers\n",
    "Числовые типы данных вторые по популярности типы данных переменных"
   ]
  },
  {
   "cell_type": "code",
   "execution_count": 77,
   "metadata": {},
   "outputs": [
    {
     "name": "stdout",
     "output_type": "stream",
     "text": [
      "3\n",
      "<class 'int'>\n",
      "0.3333333333333333\n",
      "<class 'float'>\n",
      "3+2 =\t\t 5\n",
      "2-3 =\t\t -1\n",
      "3*2 =\t\t 6\n",
      "2/3 =\t\t 0.6666666666666666\n",
      "125/31 =\t 4.032258064516129\n",
      "125//31 =\t 4\n",
      "125%31 =\t 1\n",
      "4**3=\t\t 64\n",
      "\n",
      "----------------\n",
      "\n",
      "2>3 = False\n",
      "2<3 = True\n",
      "3>=3 = True\n",
      "4<=3 = False\n",
      "2==2 = True\n",
      "2!=2 = False\n"
     ]
    }
   ],
   "source": [
    "a = 3\n",
    "print(a)\n",
    "print(type(a))\n",
    "\n",
    "a = 1/3\n",
    "print(a)\n",
    "print(type(a))\n",
    "\n",
    "# Operations\n",
    "print('3+2 =\\t\\t',3+2)\n",
    "print('2-3 =\\t\\t',2-3)\n",
    "print('3*2 =\\t\\t',3*2)\n",
    "print('2/3 =\\t\\t',2/3)\n",
    "print('125/31 =\\t',125/31)\n",
    "print('125//31 =\\t',125//31)\n",
    "print('125%31 =\\t',125%31)\n",
    "print('4**3=\\t\\t', 4**3) # 4*4*4\n",
    "\n",
    "print('\\n----------------\\n')\n",
    "\n",
    "print('2>3 =', 2>3)\n",
    "print('2<3 =', 2<3)\n",
    "print('3>=3 =', 3>=3)\n",
    "print('4<=3 =', 4<=3)\n",
    "print('2==2 =', 2==2)\n",
    "print('2!=2 =', 2!=2)"
   ]
  },
  {
   "cell_type": "markdown",
   "metadata": {},
   "source": [
    "Приоритет операций:"
   ]
  },
  {
   "cell_type": "code",
   "execution_count": 71,
   "metadata": {},
   "outputs": [
    {
     "name": "stdout",
     "output_type": "stream",
     "text": [
      "6\n",
      "8\n"
     ]
    }
   ],
   "source": [
    "result = 2+2*2\n",
    "print(result)\n",
    "\n",
    "result = (2+2)*2\n",
    "print(result)"
   ]
  },
  {
   "cell_type": "markdown",
   "metadata": {},
   "source": [
    "**Операции**"
   ]
  },
  {
   "cell_type": "code",
   "execution_count": 14,
   "metadata": {},
   "outputs": [
    {
     "name": "stdout",
     "output_type": "stream",
     "text": [
      "80\n",
      "ABS:  10\n",
      "Round 1.253\n"
     ]
    }
   ],
   "source": [
    "result=8\n",
    "result *= 10 # result = result * 10\n",
    "print(result)\n",
    "\n",
    "print('ABS: ', abs(-10))\n",
    "print('Round', round(1.25346346,3))"
   ]
  },
  {
   "cell_type": "code",
   "execution_count": null,
   "metadata": {},
   "outputs": [],
   "source": []
  }
 ],
 "metadata": {
  "kernelspec": {
   "display_name": "Python 3",
   "language": "python",
   "name": "python3"
  },
  "language_info": {
   "codemirror_mode": {
    "name": "ipython",
    "version": 3
   },
   "file_extension": ".py",
   "mimetype": "text/x-python",
   "name": "python",
   "nbconvert_exporter": "python",
   "pygments_lexer": "ipython3",
   "version": "3.7.1"
  }
 },
 "nbformat": 4,
 "nbformat_minor": 2
}
