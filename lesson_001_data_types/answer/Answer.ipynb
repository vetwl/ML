{
 "cells": [
  {
   "cell_type": "markdown",
   "metadata": {},
   "source": [
    "# Задача 1\n",
    "\n",
    "Дан текст, выполнить с ним следующие операции:\n",
    "* Вывести длину текста\n",
    "* Заменить буквы 'о' на буквы 'а'\n",
    "* Удалить слова 'не' и 'ни'"
   ]
  },
  {
   "cell_type": "code",
   "execution_count": 2,
   "metadata": {},
   "outputs": [],
   "source": [
    "quote = \"\"\"\n",
    "Будучи вне дома, держите себя так, словно принимаете почетных гостей.\n",
    "Пользуясь услугами людей, ведите себя так, словно свершаете торжественный обряд.\n",
    "Не делайте другим того, чего себе не пожелаете.\n",
    "Тогда ни в государстве, ни в семье не будет недовольства.\n",
    "\"\"\""
   ]
  },
  {
   "cell_type": "code",
   "execution_count": 8,
   "metadata": {},
   "outputs": [
    {
     "name": "stdout",
     "output_type": "stream",
     "text": [
      "Исходное предложение:  \n",
      "Будучи вне дома, держите себя так, словно принимаете почетных гостей.\n",
      "Пользуясь услугами людей, ведите себя так, словно свершаете торжественный обряд.\n",
      "Не делайте другим того, чего себе не пожелаете.\n",
      "Тогда ни в государстве, ни в семье не будет недовольства.\n",
      "\n",
      "\n",
      "-----------\n",
      "\n",
      "Длина предложения:  258\n",
      "\n",
      "-----------\n",
      "\n",
      "Заменить буквы о:  \n",
      "Будучи вне дама, держите себя так, славна принимаете пачетных гастей.\n",
      "Пальзуясь услугами людей, ведите себя так, славна свершаете таржественный абряд.\n",
      "Не делайте другим тага, чега себе не пажелаете.\n",
      "Тагда ни в гасударстве, ни в семье не будет недавальства.\n",
      "\n",
      "\n",
      "-----------\n",
      "\n",
      "Без не и ни:  \n",
      "Будучи в дома, держите себя так, словно примаете почетных гостей.\n",
      "Пользуясь услугами людей, ведите себя так, словно свершаете торжественный обряд.\n",
      "Не делайте другим того, чего себе  пожелаете.\n",
      "Тогда  в государстве,  в семье  будет довольства.\n",
      "\n"
     ]
    }
   ],
   "source": [
    "# Пишите свой код\n",
    "\n",
    "print('Исходное предложение: ', quote)\n",
    "print('\\n-----------\\n')\n",
    "print('Длина предложения: ', len(quote))\n",
    "print('\\n-----------\\n')\n",
    "print('Заменить буквы о: ', quote.replace('о', 'а'))\n",
    "\n",
    "quote = quote.replace('не', '')\n",
    "quote = quote.replace('ни', '')\n",
    "print('\\n-----------\\n')\n",
    "print('Без не и ни: ', quote)\n"
   ]
  },
  {
   "cell_type": "markdown",
   "metadata": {},
   "source": [
    "# Задача 2\n",
    "\n",
    "Сложные проценты - https://ru.onlinemschool.com/math/library/percent/percent10/\n",
    "\n",
    "Пользователь желает положить деньги под проценты на определенный срок. Банк каждый год начисляет 8% годовых. Вычислить полученную сумму в конце срока.\n",
    "\n",
    "Доп. задача, распишите прибыль за каждый год. (можно использовать циклы если знаете, но можно и без)\n",
    "\n",
    "Онлайн калькулятор, для проверки ответов: https://wpcalc.com/slozhnyj-procent/"
   ]
  },
  {
   "cell_type": "code",
   "execution_count": 10,
   "metadata": {},
   "outputs": [],
   "source": [
    "# сумма пользователя в рублях, которую он положит в банк\n",
    "source_amt = 412500\n",
    "\n",
    "# годовой процент\n",
    "annual_interest = 8\n",
    "\n",
    "# срок в 5 лет\n",
    "time = 5\n",
    "\n",
    "# в эту переменную нужно записать ответ\n",
    "result = -1"
   ]
  },
  {
   "cell_type": "code",
   "execution_count": 17,
   "metadata": {},
   "outputs": [
    {
     "name": "stdout",
     "output_type": "stream",
     "text": [
      "В итоге вы получите:  606097.83\n",
      "\n",
      "-----------\n",
      "\n",
      "Прибыль за 1 год:  33000.0  руб.\n",
      "Прибыль за 2 год:  35640.0  руб.\n",
      "Прибыль за 3 год:  38491.2  руб.\n",
      "Прибыль за 4 год:  41570.5  руб.\n",
      "Прибыль за 5 год:  44896.14  руб.\n"
     ]
    }
   ],
   "source": [
    "# Пишите свой код\n",
    "\n",
    "result = source_amt * (( 1 + (annual_interest/100)) ** time)\n",
    "print('В итоге вы получите: ', round(result, 2))\n",
    "\n",
    "\n",
    "profit_1 = 0\n",
    "profit_2 = 0\n",
    "profit_3 = 0\n",
    "profit_4 = 0\n",
    "profit_5 = 0\n",
    "\n",
    "profit_1 = (source_amt * (( 1 + (annual_interest/100)) ** 1)) - source_amt\n",
    "profit_2 = (source_amt * (( 1 + (annual_interest/100)) ** 2)) - source_amt - profit_1\n",
    "profit_3 = (source_amt * (( 1 + (annual_interest/100)) ** 3)) - source_amt - profit_1 - profit_2\n",
    "profit_4 = (source_amt * (( 1 + (annual_interest/100)) ** 4)) - source_amt - profit_1 - profit_2 - profit_3\n",
    "profit_5 = (source_amt * (( 1 + (annual_interest/100)) ** 5)) - source_amt - profit_1 - profit_2 - profit_3 - profit_4\n",
    "\n",
    "print('\\n-----------\\n')\n",
    "print('Прибыль за 1 год: ', round(profit_1,2), ' руб.')\n",
    "print('Прибыль за 2 год: ', round(profit_2,2), ' руб.')\n",
    "print('Прибыль за 3 год: ', round(profit_3,2), ' руб.')\n",
    "print('Прибыль за 4 год: ', round(profit_4,2), ' руб.')\n",
    "print('Прибыль за 5 год: ', round(profit_5,2), ' руб.')"
   ]
  },
  {
   "cell_type": "code",
   "execution_count": null,
   "metadata": {},
   "outputs": [],
   "source": []
  }
 ],
 "metadata": {
  "kernelspec": {
   "display_name": "Python 3",
   "language": "python",
   "name": "python3"
  },
  "language_info": {
   "codemirror_mode": {
    "name": "ipython",
    "version": 3
   },
   "file_extension": ".py",
   "mimetype": "text/x-python",
   "name": "python",
   "nbconvert_exporter": "python",
   "pygments_lexer": "ipython3",
   "version": "3.7.1"
  }
 },
 "nbformat": 4,
 "nbformat_minor": 2
}
