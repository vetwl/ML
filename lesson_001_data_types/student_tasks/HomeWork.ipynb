{
 "cells": [
  {
   "cell_type": "markdown",
   "metadata": {},
   "source": [
    "# Задача 1\n",
    "\n",
    "Дан текст, выполнить с ним следующие операции:\n",
    "* Вывести длину текста\n",
    "* Заменить буквы 'о' на буквы 'а'\n",
    "* Удалить слова 'не' и 'ни'"
   ]
  },
  {
   "cell_type": "code",
   "execution_count": 2,
   "metadata": {},
   "outputs": [],
   "source": [
    "quote = \"\"\"\n",
    "Будучи вне дома, держите себя так, словно принимаете почетных гостей.\n",
    "Пользуясь услугами людей, ведите себя так, словно свершаете торжественный обряд.\n",
    "Не делайте другим того, чего себе не пожелаете.\n",
    "Тогда ни в государстве, ни в семье не будет недовольства.\n",
    "\"\"\""
   ]
  },
  {
   "cell_type": "code",
   "execution_count": 3,
   "metadata": {},
   "outputs": [],
   "source": [
    "# Пишите свой код\n",
    "\n"
   ]
  },
  {
   "cell_type": "markdown",
   "metadata": {},
   "source": [
    "# Задача 2\n",
    "\n",
    "Сложные проценты - https://ru.onlinemschool.com/math/library/percent/percent10/\n",
    "\n",
    "Пользователь желает положить деньги под проценты на определенный срок. Банк каждый год начисляет 8% годовых. Вычислить полученную сумму в конце срока.\n",
    "\n",
    "Доп. задача, распишите прибыль за каждый год. (можно использовать циклы если знаете, но можно и без)\n",
    "\n",
    "Онлайн калькулятор, для проверки ответов: https://wpcalc.com/slozhnyj-procent/"
   ]
  },
  {
   "cell_type": "code",
   "execution_count": 4,
   "metadata": {},
   "outputs": [],
   "source": [
    "# сумма пользователя в рублях, которую он положит в банк\n",
    "source_amt = 412500\n",
    "\n",
    "# годовой процент\n",
    "annual_interest = 8\n",
    "\n",
    "# срок в 5 лет\n",
    "time = 5\n",
    "\n",
    "# в эту переменную нужно записать ответ\n",
    "result = -1"
   ]
  },
  {
   "cell_type": "code",
   "execution_count": 5,
   "metadata": {},
   "outputs": [],
   "source": [
    "# Пишите свой код\n",
    "\n"
   ]
  }
 ],
 "metadata": {
  "kernelspec": {
   "display_name": "Python 3",
   "language": "python",
   "name": "python3"
  },
  "language_info": {
   "codemirror_mode": {
    "name": "ipython",
    "version": 3
   },
   "file_extension": ".py",
   "mimetype": "text/x-python",
   "name": "python",
   "nbconvert_exporter": "python",
   "pygments_lexer": "ipython3",
   "version": "3.7.1"
  }
 },
 "nbformat": 4,
 "nbformat_minor": 2
}
